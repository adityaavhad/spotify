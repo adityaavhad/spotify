{
 "cells": [
  {
   "cell_type": "code",
   "execution_count": 2,
   "metadata": {},
   "outputs": [],
   "source": [
    "# Import libraries:\n",
    "import pandas as pd\n",
    "import numpy as np"
   ]
  },
  {
   "cell_type": "code",
   "execution_count": 3,
   "metadata": {},
   "outputs": [],
   "source": [
    "#Importing Data\n",
    "history = pd.read_json('MyData/StreamingHistory0.json')"
   ]
  },
  {
   "cell_type": "code",
   "execution_count": 4,
   "metadata": {},
   "outputs": [
    {
     "data": {
      "text/html": [
       "<div>\n",
       "<style scoped>\n",
       "    .dataframe tbody tr th:only-of-type {\n",
       "        vertical-align: middle;\n",
       "    }\n",
       "\n",
       "    .dataframe tbody tr th {\n",
       "        vertical-align: top;\n",
       "    }\n",
       "\n",
       "    .dataframe thead th {\n",
       "        text-align: right;\n",
       "    }\n",
       "</style>\n",
       "<table border=\"1\" class=\"dataframe\">\n",
       "  <thead>\n",
       "    <tr style=\"text-align: right;\">\n",
       "      <th></th>\n",
       "      <th>endTime</th>\n",
       "      <th>artistName</th>\n",
       "      <th>trackName</th>\n",
       "      <th>msPlayed</th>\n",
       "    </tr>\n",
       "  </thead>\n",
       "  <tbody>\n",
       "    <tr>\n",
       "      <th>0</th>\n",
       "      <td>2019-07-22 14:15</td>\n",
       "      <td>Token</td>\n",
       "      <td>Same Difference</td>\n",
       "      <td>0</td>\n",
       "    </tr>\n",
       "    <tr>\n",
       "      <th>1</th>\n",
       "      <td>2019-07-22 14:21</td>\n",
       "      <td>Token</td>\n",
       "      <td>Same Difference</td>\n",
       "      <td>294355</td>\n",
       "    </tr>\n",
       "    <tr>\n",
       "      <th>2</th>\n",
       "      <td>2019-07-22 14:24</td>\n",
       "      <td>Token</td>\n",
       "      <td>Treehouse</td>\n",
       "      <td>185672</td>\n",
       "    </tr>\n",
       "    <tr>\n",
       "      <th>3</th>\n",
       "      <td>2019-07-22 14:26</td>\n",
       "      <td>Token</td>\n",
       "      <td>FBI</td>\n",
       "      <td>168444</td>\n",
       "    </tr>\n",
       "    <tr>\n",
       "      <th>4</th>\n",
       "      <td>2019-07-22 14:30</td>\n",
       "      <td>Token</td>\n",
       "      <td>Suitcase and a Passport</td>\n",
       "      <td>188190</td>\n",
       "    </tr>\n",
       "  </tbody>\n",
       "</table>\n",
       "</div>"
      ],
      "text/plain": [
       "            endTime artistName                trackName  msPlayed\n",
       "0  2019-07-22 14:15      Token          Same Difference         0\n",
       "1  2019-07-22 14:21      Token          Same Difference    294355\n",
       "2  2019-07-22 14:24      Token                Treehouse    185672\n",
       "3  2019-07-22 14:26      Token                      FBI    168444\n",
       "4  2019-07-22 14:30      Token  Suitcase and a Passport    188190"
      ]
     },
     "execution_count": 4,
     "metadata": {},
     "output_type": "execute_result"
    }
   ],
   "source": [
    "history.head()"
   ]
  },
  {
   "cell_type": "markdown",
   "metadata": {},
   "source": [
    "#### Some information about the datasets features from the official website:\n",
    "A list of items (e.g. songs, videos, and podcasts) listened to or watched in the past year, including:\n",
    "\n",
    "    Date and time of when the stream ended in UTC format (Coordinated Universal Time zone).\n",
    "    Name of \"creator\" for each stream (e.g. the artist name if a music track).\n",
    "    Name of items listened to or watched (e.g. title of music track or name of video). \n",
    "    “msPlayed”- Stands for how many mili-seconds the track was listened. "
   ]
  },
  {
   "cell_type": "code",
   "execution_count": 5,
   "metadata": {},
   "outputs": [
    {
     "data": {
      "text/plain": [
       "(5702, 4)"
      ]
     },
     "execution_count": 5,
     "metadata": {},
     "output_type": "execute_result"
    }
   ],
   "source": [
    "history.shape"
   ]
  },
  {
   "cell_type": "code",
   "execution_count": 6,
   "metadata": {},
   "outputs": [
    {
     "data": {
      "text/plain": [
       "endTime       object\n",
       "artistName    object\n",
       "trackName     object\n",
       "msPlayed       int64\n",
       "dtype: object"
      ]
     },
     "execution_count": 6,
     "metadata": {},
     "output_type": "execute_result"
    }
   ],
   "source": [
    "history.dtypes"
   ]
  },
  {
   "cell_type": "code",
   "execution_count": 11,
   "metadata": {},
   "outputs": [],
   "source": [
    "#Converting Time from UTC into IST:\n",
    "from datetime import timedelta\n",
    "history['endTime'] = pd.to_datetime(history['endTime'])\n",
    "history['localTime'] = history['endTime'] + timedelta(hours=5,minutes = 30)"
   ]
  },
  {
   "cell_type": "code",
   "execution_count": 16,
   "metadata": {},
   "outputs": [
    {
     "data": {
      "text/plain": [
       "endTime       datetime64[ns]\n",
       "artistName            object\n",
       "trackName             object\n",
       "msPlayed               int64\n",
       "localTime     datetime64[ns]\n",
       "dtype: object"
      ]
     },
     "execution_count": 16,
     "metadata": {},
     "output_type": "execute_result"
    }
   ],
   "source": [
    "history.dtypes"
   ]
  },
  {
   "cell_type": "code",
   "execution_count": 17,
   "metadata": {},
   "outputs": [
    {
     "data": {
      "text/html": [
       "<div>\n",
       "<style scoped>\n",
       "    .dataframe tbody tr th:only-of-type {\n",
       "        vertical-align: middle;\n",
       "    }\n",
       "\n",
       "    .dataframe tbody tr th {\n",
       "        vertical-align: top;\n",
       "    }\n",
       "\n",
       "    .dataframe thead th {\n",
       "        text-align: right;\n",
       "    }\n",
       "</style>\n",
       "<table border=\"1\" class=\"dataframe\">\n",
       "  <thead>\n",
       "    <tr style=\"text-align: right;\">\n",
       "      <th></th>\n",
       "      <th>endTime</th>\n",
       "      <th>artistName</th>\n",
       "      <th>trackName</th>\n",
       "      <th>msPlayed</th>\n",
       "      <th>localTime</th>\n",
       "    </tr>\n",
       "  </thead>\n",
       "  <tbody>\n",
       "    <tr>\n",
       "      <th>0</th>\n",
       "      <td>2019-07-22 14:15:00</td>\n",
       "      <td>Token</td>\n",
       "      <td>Same Difference</td>\n",
       "      <td>0</td>\n",
       "      <td>2019-07-22 19:45:00</td>\n",
       "    </tr>\n",
       "    <tr>\n",
       "      <th>1</th>\n",
       "      <td>2019-07-22 14:21:00</td>\n",
       "      <td>Token</td>\n",
       "      <td>Same Difference</td>\n",
       "      <td>294355</td>\n",
       "      <td>2019-07-22 19:51:00</td>\n",
       "    </tr>\n",
       "    <tr>\n",
       "      <th>2</th>\n",
       "      <td>2019-07-22 14:24:00</td>\n",
       "      <td>Token</td>\n",
       "      <td>Treehouse</td>\n",
       "      <td>185672</td>\n",
       "      <td>2019-07-22 19:54:00</td>\n",
       "    </tr>\n",
       "    <tr>\n",
       "      <th>3</th>\n",
       "      <td>2019-07-22 14:26:00</td>\n",
       "      <td>Token</td>\n",
       "      <td>FBI</td>\n",
       "      <td>168444</td>\n",
       "      <td>2019-07-22 19:56:00</td>\n",
       "    </tr>\n",
       "    <tr>\n",
       "      <th>4</th>\n",
       "      <td>2019-07-22 14:30:00</td>\n",
       "      <td>Token</td>\n",
       "      <td>Suitcase and a Passport</td>\n",
       "      <td>188190</td>\n",
       "      <td>2019-07-22 20:00:00</td>\n",
       "    </tr>\n",
       "  </tbody>\n",
       "</table>\n",
       "</div>"
      ],
      "text/plain": [
       "              endTime artistName                trackName  msPlayed  \\\n",
       "0 2019-07-22 14:15:00      Token          Same Difference         0   \n",
       "1 2019-07-22 14:21:00      Token          Same Difference    294355   \n",
       "2 2019-07-22 14:24:00      Token                Treehouse    185672   \n",
       "3 2019-07-22 14:26:00      Token                      FBI    168444   \n",
       "4 2019-07-22 14:30:00      Token  Suitcase and a Passport    188190   \n",
       "\n",
       "            localTime  \n",
       "0 2019-07-22 19:45:00  \n",
       "1 2019-07-22 19:51:00  \n",
       "2 2019-07-22 19:54:00  \n",
       "3 2019-07-22 19:56:00  \n",
       "4 2019-07-22 20:00:00  "
      ]
     },
     "execution_count": 17,
     "metadata": {},
     "output_type": "execute_result"
    }
   ],
   "source": [
    "history.head()"
   ]
  },
  {
   "cell_type": "code",
   "execution_count": 18,
   "metadata": {},
   "outputs": [],
   "source": [
    "#Splitting the endTime column into Date and Time columns\n",
    "history['Dates'] = pd.to_datetime(history['localTime']).dt.date\n",
    "history['Time'] = pd.to_datetime(history['localTime']).dt.time"
   ]
  },
  {
   "cell_type": "code",
   "execution_count": 20,
   "metadata": {},
   "outputs": [
    {
     "data": {
      "text/html": [
       "<div>\n",
       "<style scoped>\n",
       "    .dataframe tbody tr th:only-of-type {\n",
       "        vertical-align: middle;\n",
       "    }\n",
       "\n",
       "    .dataframe tbody tr th {\n",
       "        vertical-align: top;\n",
       "    }\n",
       "\n",
       "    .dataframe thead th {\n",
       "        text-align: right;\n",
       "    }\n",
       "</style>\n",
       "<table border=\"1\" class=\"dataframe\">\n",
       "  <thead>\n",
       "    <tr style=\"text-align: right;\">\n",
       "      <th></th>\n",
       "      <th>artistName</th>\n",
       "      <th>trackName</th>\n",
       "      <th>msPlayed</th>\n",
       "      <th>Dates</th>\n",
       "      <th>Time</th>\n",
       "    </tr>\n",
       "  </thead>\n",
       "  <tbody>\n",
       "    <tr>\n",
       "      <th>0</th>\n",
       "      <td>Token</td>\n",
       "      <td>Same Difference</td>\n",
       "      <td>0</td>\n",
       "      <td>2019-07-22</td>\n",
       "      <td>19:45:00</td>\n",
       "    </tr>\n",
       "    <tr>\n",
       "      <th>1</th>\n",
       "      <td>Token</td>\n",
       "      <td>Same Difference</td>\n",
       "      <td>294355</td>\n",
       "      <td>2019-07-22</td>\n",
       "      <td>19:51:00</td>\n",
       "    </tr>\n",
       "    <tr>\n",
       "      <th>2</th>\n",
       "      <td>Token</td>\n",
       "      <td>Treehouse</td>\n",
       "      <td>185672</td>\n",
       "      <td>2019-07-22</td>\n",
       "      <td>19:54:00</td>\n",
       "    </tr>\n",
       "    <tr>\n",
       "      <th>3</th>\n",
       "      <td>Token</td>\n",
       "      <td>FBI</td>\n",
       "      <td>168444</td>\n",
       "      <td>2019-07-22</td>\n",
       "      <td>19:56:00</td>\n",
       "    </tr>\n",
       "    <tr>\n",
       "      <th>4</th>\n",
       "      <td>Token</td>\n",
       "      <td>Suitcase and a Passport</td>\n",
       "      <td>188190</td>\n",
       "      <td>2019-07-22</td>\n",
       "      <td>20:00:00</td>\n",
       "    </tr>\n",
       "    <tr>\n",
       "      <th>...</th>\n",
       "      <td>...</td>\n",
       "      <td>...</td>\n",
       "      <td>...</td>\n",
       "      <td>...</td>\n",
       "      <td>...</td>\n",
       "    </tr>\n",
       "    <tr>\n",
       "      <th>5697</th>\n",
       "      <td>Token</td>\n",
       "      <td>FBI</td>\n",
       "      <td>2508</td>\n",
       "      <td>2020-07-08</td>\n",
       "      <td>06:45:00</td>\n",
       "    </tr>\n",
       "    <tr>\n",
       "      <th>5698</th>\n",
       "      <td>Token</td>\n",
       "      <td>And You (ft. IDK &amp; Bas)</td>\n",
       "      <td>1467</td>\n",
       "      <td>2020-07-08</td>\n",
       "      <td>06:45:00</td>\n",
       "    </tr>\n",
       "    <tr>\n",
       "      <th>5699</th>\n",
       "      <td>Token</td>\n",
       "      <td>Treehouse</td>\n",
       "      <td>1371</td>\n",
       "      <td>2020-07-08</td>\n",
       "      <td>06:45:00</td>\n",
       "    </tr>\n",
       "    <tr>\n",
       "      <th>5700</th>\n",
       "      <td>Token</td>\n",
       "      <td>Suitcase and a Passport</td>\n",
       "      <td>920</td>\n",
       "      <td>2020-07-08</td>\n",
       "      <td>06:46:00</td>\n",
       "    </tr>\n",
       "    <tr>\n",
       "      <th>5701</th>\n",
       "      <td>Token</td>\n",
       "      <td>Flamingo Video Shoot</td>\n",
       "      <td>493</td>\n",
       "      <td>2020-07-08</td>\n",
       "      <td>06:46:00</td>\n",
       "    </tr>\n",
       "  </tbody>\n",
       "</table>\n",
       "<p>5702 rows × 5 columns</p>\n",
       "</div>"
      ],
      "text/plain": [
       "     artistName                trackName  msPlayed       Dates      Time\n",
       "0         Token          Same Difference         0  2019-07-22  19:45:00\n",
       "1         Token          Same Difference    294355  2019-07-22  19:51:00\n",
       "2         Token                Treehouse    185672  2019-07-22  19:54:00\n",
       "3         Token                      FBI    168444  2019-07-22  19:56:00\n",
       "4         Token  Suitcase and a Passport    188190  2019-07-22  20:00:00\n",
       "...         ...                      ...       ...         ...       ...\n",
       "5697      Token                      FBI      2508  2020-07-08  06:45:00\n",
       "5698      Token  And You (ft. IDK & Bas)      1467  2020-07-08  06:45:00\n",
       "5699      Token                Treehouse      1371  2020-07-08  06:45:00\n",
       "5700      Token  Suitcase and a Passport       920  2020-07-08  06:46:00\n",
       "5701      Token     Flamingo Video Shoot       493  2020-07-08  06:46:00\n",
       "\n",
       "[5702 rows x 5 columns]"
      ]
     },
     "execution_count": 20,
     "metadata": {},
     "output_type": "execute_result"
    }
   ],
   "source": [
    "history.drop(columns = ['endTime','localTime'])"
   ]
  },
  {
   "cell_type": "code",
   "execution_count": 26,
   "metadata": {},
   "outputs": [
    {
     "data": {
      "text/plain": [
       "count      5702.000000\n",
       "mean     107986.593827\n",
       "std      107419.945565\n",
       "min           0.000000\n",
       "25%        3169.250000\n",
       "50%       78337.000000\n",
       "75%      204615.000000\n",
       "max      926893.000000\n",
       "Name: msPlayed, dtype: float64"
      ]
     },
     "execution_count": 26,
     "metadata": {},
     "output_type": "execute_result"
    }
   ],
   "source": [
    "history['msPlayed'].describe()"
   ]
  },
  {
   "cell_type": "code",
   "execution_count": 32,
   "metadata": {},
   "outputs": [
    {
     "data": {
      "text/plain": [
       "(3492, 7)"
      ]
     },
     "execution_count": 32,
     "metadata": {},
     "output_type": "execute_result"
    }
   ],
   "source": [
    "#Removing songs played lesser than 15 seconds(15000 milli-seconds).(assuming they were not heard for a substantial duration)\n",
    "history[history['msPlayed'] <= 15000] #2210 such instances.\n",
    "#Accepting songs played more than 15000 milli-seconds.\n",
    "history = history[history['msPlayed'] > 15000]\n",
    "history.shape"
   ]
  },
  {
   "cell_type": "code",
   "execution_count": 65,
   "metadata": {},
   "outputs": [
    {
     "name": "stdout",
     "output_type": "stream",
     "text": [
      "Top 10 most heard artists:\n",
      "The Weeknd         684\n",
      "Akon               305\n",
      "Denzel Curry       219\n",
      "Token              192\n",
      "Eminem             191\n",
      "NAV                151\n",
      "6ix9ine             98\n",
      "Bruce Faulconer     98\n",
      "Drake               92\n",
      "Ne-Yo               60\n",
      "Name: artistName, dtype: int64\n",
      "\n",
      "Top 10 most played songs:\n",
      "Crew Love                                         33\n",
      "Heartless                                         31\n",
      "Weather the Storm (feat. Meek Mill & Lil Baby)    27\n",
      "Love In The Sky                                   21\n",
      "Professional                                      20\n",
      "You                                               18\n",
      "Unaccommodating (feat. Young M.A)                 18\n",
      "After Hours                                       17\n",
      "The Town                                          17\n",
      "Blinding Lights                                   17\n",
      "Name: trackName, dtype: int64\n"
     ]
    }
   ],
   "source": [
    "#10 Most played Artists and most played Songs.\n",
    "print('Top 10 most heard artists:')\n",
    "print(history['artistName'].value_counts().head(10))\n",
    "print('\\nTop 10 most played songs:')\n",
    "print(history['trackName'].value_counts().head(10))"
   ]
  },
  {
   "cell_type": "code",
   "execution_count": 82,
   "metadata": {},
   "outputs": [
    {
     "data": {
      "text/plain": [
       "pandas.core.series.Series"
      ]
     },
     "execution_count": 82,
     "metadata": {},
     "output_type": "execute_result"
    },
    {
     "data": {
      "image/png": "[encoded data removed]",
      "text/plain": [
       "<Figure size 1080x1080 with 1 Axes>"
      ]
     },
     "metadata": {
      "needs_background": "light"
     },
     "output_type": "display_data"
    }
   ],
   "source": [
    "import matplotlib.pyplot as plt\n",
    "plt.figure(figsize=(15,15))\n",
    "plt.plot(history['artistName'].value_counts().head(10),'*')\n",
    "plt.xlabel('Artist Names')\n",
    "plt.ylabel('No. of time played')\n",
    "plt.title('Top 10 most heard artists')\n",
    "temp = history['artistName'].value_counts().head(10)\n"
   ]
  },
  {
   "cell_type": "code",
   "execution_count": 21,
   "metadata": {},
   "outputs": [],
   "source": [
    "#Importing SpotifyFeatures.csv\n",
    "spotifyFeatures = pd.read_csv('SpotifyFeatures.csv')"
   ]
  },
  {
   "cell_type": "code",
   "execution_count": 22,
   "metadata": {},
   "outputs": [
    {
     "name": "stdout",
     "output_type": "stream",
     "text": [
      "(232725, 18)\n"
     ]
    },
    {
     "data": {
      "text/html": [
       "<div>\n",
       "<style scoped>\n",
       "    .dataframe tbody tr th:only-of-type {\n",
       "        vertical-align: middle;\n",
       "    }\n",
       "\n",
       "    .dataframe tbody tr th {\n",
       "        vertical-align: top;\n",
       "    }\n",
       "\n",
       "    .dataframe thead th {\n",
       "        text-align: right;\n",
       "    }\n",
       "</style>\n",
       "<table border=\"1\" class=\"dataframe\">\n",
       "  <thead>\n",
       "    <tr style=\"text-align: right;\">\n",
       "      <th></th>\n",
       "      <th>genre</th>\n",
       "      <th>artist_name</th>\n",
       "      <th>track_name</th>\n",
       "      <th>track_id</th>\n",
       "      <th>popularity</th>\n",
       "      <th>acousticness</th>\n",
       "      <th>danceability</th>\n",
       "      <th>duration_ms</th>\n",
       "      <th>energy</th>\n",
       "      <th>instrumentalness</th>\n",
       "      <th>key</th>\n",
       "      <th>liveness</th>\n",
       "      <th>loudness</th>\n",
       "      <th>mode</th>\n",
       "      <th>speechiness</th>\n",
       "      <th>tempo</th>\n",
       "      <th>time_signature</th>\n",
       "      <th>valence</th>\n",
       "    </tr>\n",
       "  </thead>\n",
       "  <tbody>\n",
       "    <tr>\n",
       "      <th>0</th>\n",
       "      <td>Movie</td>\n",
       "      <td>Henri Salvador</td>\n",
       "      <td>C'est beau de faire un Show</td>\n",
       "      <td>0BRjO6ga9RKCKjfDqeFgWV</td>\n",
       "      <td>0</td>\n",
       "      <td>0.611</td>\n",
       "      <td>0.389</td>\n",
       "      <td>99373</td>\n",
       "      <td>0.910</td>\n",
       "      <td>0.000</td>\n",
       "      <td>C#</td>\n",
       "      <td>0.3460</td>\n",
       "      <td>-1.828</td>\n",
       "      <td>Major</td>\n",
       "      <td>0.0525</td>\n",
       "      <td>166.969</td>\n",
       "      <td>4/4</td>\n",
       "      <td>0.814</td>\n",
       "    </tr>\n",
       "    <tr>\n",
       "      <th>1</th>\n",
       "      <td>Movie</td>\n",
       "      <td>Martin &amp; les fées</td>\n",
       "      <td>Perdu d'avance (par Gad Elmaleh)</td>\n",
       "      <td>0BjC1NfoEOOusryehmNudP</td>\n",
       "      <td>1</td>\n",
       "      <td>0.246</td>\n",
       "      <td>0.590</td>\n",
       "      <td>137373</td>\n",
       "      <td>0.737</td>\n",
       "      <td>0.000</td>\n",
       "      <td>F#</td>\n",
       "      <td>0.1510</td>\n",
       "      <td>-5.559</td>\n",
       "      <td>Minor</td>\n",
       "      <td>0.0868</td>\n",
       "      <td>174.003</td>\n",
       "      <td>4/4</td>\n",
       "      <td>0.816</td>\n",
       "    </tr>\n",
       "    <tr>\n",
       "      <th>2</th>\n",
       "      <td>Movie</td>\n",
       "      <td>Joseph Williams</td>\n",
       "      <td>Don't Let Me Be Lonely Tonight</td>\n",
       "      <td>0CoSDzoNIKCRs124s9uTVy</td>\n",
       "      <td>3</td>\n",
       "      <td>0.952</td>\n",
       "      <td>0.663</td>\n",
       "      <td>170267</td>\n",
       "      <td>0.131</td>\n",
       "      <td>0.000</td>\n",
       "      <td>C</td>\n",
       "      <td>0.1030</td>\n",
       "      <td>-13.879</td>\n",
       "      <td>Minor</td>\n",
       "      <td>0.0362</td>\n",
       "      <td>99.488</td>\n",
       "      <td>5/4</td>\n",
       "      <td>0.368</td>\n",
       "    </tr>\n",
       "    <tr>\n",
       "      <th>3</th>\n",
       "      <td>Movie</td>\n",
       "      <td>Henri Salvador</td>\n",
       "      <td>Dis-moi Monsieur Gordon Cooper</td>\n",
       "      <td>0Gc6TVm52BwZD07Ki6tIvf</td>\n",
       "      <td>0</td>\n",
       "      <td>0.703</td>\n",
       "      <td>0.240</td>\n",
       "      <td>152427</td>\n",
       "      <td>0.326</td>\n",
       "      <td>0.000</td>\n",
       "      <td>C#</td>\n",
       "      <td>0.0985</td>\n",
       "      <td>-12.178</td>\n",
       "      <td>Major</td>\n",
       "      <td>0.0395</td>\n",
       "      <td>171.758</td>\n",
       "      <td>4/4</td>\n",
       "      <td>0.227</td>\n",
       "    </tr>\n",
       "    <tr>\n",
       "      <th>4</th>\n",
       "      <td>Movie</td>\n",
       "      <td>Fabien Nataf</td>\n",
       "      <td>Ouverture</td>\n",
       "      <td>0IuslXpMROHdEPvSl1fTQK</td>\n",
       "      <td>4</td>\n",
       "      <td>0.950</td>\n",
       "      <td>0.331</td>\n",
       "      <td>82625</td>\n",
       "      <td>0.225</td>\n",
       "      <td>0.123</td>\n",
       "      <td>F</td>\n",
       "      <td>0.2020</td>\n",
       "      <td>-21.150</td>\n",
       "      <td>Major</td>\n",
       "      <td>0.0456</td>\n",
       "      <td>140.576</td>\n",
       "      <td>4/4</td>\n",
       "      <td>0.390</td>\n",
       "    </tr>\n",
       "  </tbody>\n",
       "</table>\n",
       "</div>"
      ],
      "text/plain": [
       "   genre        artist_name                        track_name  \\\n",
       "0  Movie     Henri Salvador       C'est beau de faire un Show   \n",
       "1  Movie  Martin & les fées  Perdu d'avance (par Gad Elmaleh)   \n",
       "2  Movie    Joseph Williams    Don't Let Me Be Lonely Tonight   \n",
       "3  Movie     Henri Salvador    Dis-moi Monsieur Gordon Cooper   \n",
       "4  Movie       Fabien Nataf                         Ouverture   \n",
       "\n",
       "                 track_id  popularity  acousticness  danceability  \\\n",
       "0  0BRjO6ga9RKCKjfDqeFgWV           0         0.611         0.389   \n",
       "1  0BjC1NfoEOOusryehmNudP           1         0.246         0.590   \n",
       "2  0CoSDzoNIKCRs124s9uTVy           3         0.952         0.663   \n",
       "3  0Gc6TVm52BwZD07Ki6tIvf           0         0.703         0.240   \n",
       "4  0IuslXpMROHdEPvSl1fTQK           4         0.950         0.331   \n",
       "\n",
       "   duration_ms  energy  instrumentalness key  liveness  loudness   mode  \\\n",
       "0        99373   0.910             0.000  C#    0.3460    -1.828  Major   \n",
       "1       137373   0.737             0.000  F#    0.1510    -5.559  Minor   \n",
       "2       170267   0.131             0.000   C    0.1030   -13.879  Minor   \n",
       "3       152427   0.326             0.000  C#    0.0985   -12.178  Major   \n",
       "4        82625   0.225             0.123   F    0.2020   -21.150  Major   \n",
       "\n",
       "   speechiness    tempo time_signature  valence  \n",
       "0       0.0525  166.969            4/4    0.814  \n",
       "1       0.0868  174.003            4/4    0.816  \n",
       "2       0.0362   99.488            5/4    0.368  \n",
       "3       0.0395  171.758            4/4    0.227  \n",
       "4       0.0456  140.576            4/4    0.390  "
      ]
     },
     "execution_count": 22,
     "metadata": {},
     "output_type": "execute_result"
    }
   ],
   "source": [
    "print(spotifyFeatures.shape)\n",
    "spotifyFeatures.head()"
   ]
  },
  {
   "cell_type": "code",
   "execution_count": null,
   "metadata": {},
   "outputs": [],
   "source": []
  }
 ],
 "metadata": {
  "kernelspec": {
   "display_name": "Python 3.7 (tensorflow)",
   "language": "python",
   "name": "tensorflow"
  },
  "language_info": {
   "codemirror_mode": {
    "name": "ipython",
    "version": 3
   },
   "file_extension": ".py",
   "mimetype": "text/x-python",
   "name": "python",
   "nbconvert_exporter": "python",
   "pygments_lexer": "ipython3",
   "version": "3.7.6"
  }
 },
 "nbformat": 4,
 "nbformat_minor": 4
}
